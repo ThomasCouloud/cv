{
 "cells": [
  {
   "cell_type": "code",
   "execution_count": 1,
   "id": "64a40186",
   "metadata": {},
   "outputs": [
    {
     "name": "stdout",
     "output_type": "stream",
     "text": [
      "/Users/juliencatanese/Dropbox/Datascientest/Projet_datascientest/Data_Kaggle\n",
      "X_train.shape= (89278, 187)\n"
     ]
    }
   ],
   "source": [
    "#!/usr/bin/env python\n",
    "# coding: utf-8\n",
    "\n",
    "%cd '/Users/juliencatanese/Dropbox/Datascientest/Projet_datascientest/Data_Kaggle'\n",
    "\n",
    "import os\n",
    "import numpy as np\n",
    "import pandas as pd\n",
    "from sklearn.model_selection import train_test_split\n",
    "\n",
    "# Lecture des donnees PTB.csv\n",
    "ptb_abnormal = pd.read_csv('./ptbdb_abnormal.csv', header=None)\n",
    "ptb_normal = pd.read_csv('./ptbdb_normal.csv', header=None)\n",
    "\n",
    "# Concatenation des deux DataFrames\n",
    "ptb = pd.concat([ptb_normal, ptb_abnormal], ignore_index=True, sort=False)\n",
    "ptb.rename(columns={187 :'class'}, inplace=True)\n",
    "\n",
    "# Lecture des donnees MIT.csv\n",
    "mit_train = pd.read_csv('./mitbih_train.csv', header=None)\n",
    "mit_test = pd.read_csv('./mitbih_test.csv', header=None)\n",
    "\n",
    "# Concatenation des deux DataFrames\n",
    "mit = pd.concat([mit_train, mit_test], ignore_index=True, sort=False)\n",
    "mit.rename(columns={187 :'class'}, inplace=True)\n",
    "\n",
    "# Groupement des classes non-normal (1,2,3,4) en une seule classe Anormal (label=1)\n",
    "mit['class'].replace({2:1,3:1,4:1}, inplace=True)\n",
    "\n",
    "# Concatenation des jeux de donnees PTB et MIT  \n",
    "data = pd.concat([ptb, mit], ignore_index=True, sort=False)\n",
    "\n",
    "y = data['class'].copy()\n",
    "X = data.drop('class', axis=1).copy()\n",
    "\n",
    "X_train90, X_valid, y_train90, y_valid = train_test_split(X, y, train_size=0.9, random_state=1,shuffle=True)\n",
    "X_train, X_test, y_train, y_test = train_test_split(X_train90, y_train90, train_size=0.8, random_state=1,shuffle=True)\n",
    "print('X_train.shape=', X_train.shape)\n",
    "\n",
    "\n",
    "\n"
   ]
  },
  {
   "cell_type": "code",
   "execution_count": 2,
   "id": "7f30c753",
   "metadata": {},
   "outputs": [
    {
     "data": {
      "text/html": [
       "<div>\n",
       "<style scoped>\n",
       "    .dataframe tbody tr th:only-of-type {\n",
       "        vertical-align: middle;\n",
       "    }\n",
       "\n",
       "    .dataframe tbody tr th {\n",
       "        vertical-align: top;\n",
       "    }\n",
       "\n",
       "    .dataframe thead th {\n",
       "        text-align: right;\n",
       "    }\n",
       "</style>\n",
       "<table border=\"1\" class=\"dataframe\">\n",
       "  <thead>\n",
       "    <tr style=\"text-align: right;\">\n",
       "      <th></th>\n",
       "      <th>0</th>\n",
       "      <th>1</th>\n",
       "      <th>2</th>\n",
       "      <th>3</th>\n",
       "      <th>4</th>\n",
       "      <th>5</th>\n",
       "      <th>6</th>\n",
       "      <th>7</th>\n",
       "      <th>8</th>\n",
       "      <th>9</th>\n",
       "      <th>...</th>\n",
       "      <th>177</th>\n",
       "      <th>178</th>\n",
       "      <th>179</th>\n",
       "      <th>180</th>\n",
       "      <th>181</th>\n",
       "      <th>182</th>\n",
       "      <th>183</th>\n",
       "      <th>184</th>\n",
       "      <th>185</th>\n",
       "      <th>186</th>\n",
       "    </tr>\n",
       "  </thead>\n",
       "  <tbody>\n",
       "    <tr>\n",
       "      <th>0</th>\n",
       "      <td>1.000000</td>\n",
       "      <td>0.900324</td>\n",
       "      <td>0.358590</td>\n",
       "      <td>0.051459</td>\n",
       "      <td>0.046596</td>\n",
       "      <td>0.126823</td>\n",
       "      <td>0.133306</td>\n",
       "      <td>0.119125</td>\n",
       "      <td>0.110616</td>\n",
       "      <td>0.113047</td>\n",
       "      <td>...</td>\n",
       "      <td>0.0</td>\n",
       "      <td>0.0</td>\n",
       "      <td>0.0</td>\n",
       "      <td>0.0</td>\n",
       "      <td>0.0</td>\n",
       "      <td>0.0</td>\n",
       "      <td>0.0</td>\n",
       "      <td>0.0</td>\n",
       "      <td>0.0</td>\n",
       "      <td>0.0</td>\n",
       "    </tr>\n",
       "    <tr>\n",
       "      <th>1</th>\n",
       "      <td>1.000000</td>\n",
       "      <td>0.794681</td>\n",
       "      <td>0.375387</td>\n",
       "      <td>0.116883</td>\n",
       "      <td>0.000000</td>\n",
       "      <td>0.171923</td>\n",
       "      <td>0.283859</td>\n",
       "      <td>0.293754</td>\n",
       "      <td>0.325912</td>\n",
       "      <td>0.345083</td>\n",
       "      <td>...</td>\n",
       "      <td>0.0</td>\n",
       "      <td>0.0</td>\n",
       "      <td>0.0</td>\n",
       "      <td>0.0</td>\n",
       "      <td>0.0</td>\n",
       "      <td>0.0</td>\n",
       "      <td>0.0</td>\n",
       "      <td>0.0</td>\n",
       "      <td>0.0</td>\n",
       "      <td>0.0</td>\n",
       "    </tr>\n",
       "    <tr>\n",
       "      <th>2</th>\n",
       "      <td>0.909029</td>\n",
       "      <td>0.791482</td>\n",
       "      <td>0.423169</td>\n",
       "      <td>0.186712</td>\n",
       "      <td>0.000000</td>\n",
       "      <td>0.007836</td>\n",
       "      <td>0.063032</td>\n",
       "      <td>0.077002</td>\n",
       "      <td>0.074957</td>\n",
       "      <td>0.077342</td>\n",
       "      <td>...</td>\n",
       "      <td>0.0</td>\n",
       "      <td>0.0</td>\n",
       "      <td>0.0</td>\n",
       "      <td>0.0</td>\n",
       "      <td>0.0</td>\n",
       "      <td>0.0</td>\n",
       "      <td>0.0</td>\n",
       "      <td>0.0</td>\n",
       "      <td>0.0</td>\n",
       "      <td>0.0</td>\n",
       "    </tr>\n",
       "    <tr>\n",
       "      <th>3</th>\n",
       "      <td>1.000000</td>\n",
       "      <td>0.478893</td>\n",
       "      <td>0.056760</td>\n",
       "      <td>0.064176</td>\n",
       "      <td>0.081289</td>\n",
       "      <td>0.072732</td>\n",
       "      <td>0.055619</td>\n",
       "      <td>0.048774</td>\n",
       "      <td>0.054478</td>\n",
       "      <td>0.041643</td>\n",
       "      <td>...</td>\n",
       "      <td>0.0</td>\n",
       "      <td>0.0</td>\n",
       "      <td>0.0</td>\n",
       "      <td>0.0</td>\n",
       "      <td>0.0</td>\n",
       "      <td>0.0</td>\n",
       "      <td>0.0</td>\n",
       "      <td>0.0</td>\n",
       "      <td>0.0</td>\n",
       "      <td>0.0</td>\n",
       "    </tr>\n",
       "    <tr>\n",
       "      <th>4</th>\n",
       "      <td>1.000000</td>\n",
       "      <td>0.867238</td>\n",
       "      <td>0.201360</td>\n",
       "      <td>0.099349</td>\n",
       "      <td>0.141336</td>\n",
       "      <td>0.120934</td>\n",
       "      <td>0.108516</td>\n",
       "      <td>0.096393</td>\n",
       "      <td>0.093436</td>\n",
       "      <td>0.100828</td>\n",
       "      <td>...</td>\n",
       "      <td>0.0</td>\n",
       "      <td>0.0</td>\n",
       "      <td>0.0</td>\n",
       "      <td>0.0</td>\n",
       "      <td>0.0</td>\n",
       "      <td>0.0</td>\n",
       "      <td>0.0</td>\n",
       "      <td>0.0</td>\n",
       "      <td>0.0</td>\n",
       "      <td>0.0</td>\n",
       "    </tr>\n",
       "  </tbody>\n",
       "</table>\n",
       "<p>5 rows × 187 columns</p>\n",
       "</div>"
      ],
      "text/plain": [
       "        0         1         2         3         4         5         6    \\\n",
       "0  1.000000  0.900324  0.358590  0.051459  0.046596  0.126823  0.133306   \n",
       "1  1.000000  0.794681  0.375387  0.116883  0.000000  0.171923  0.283859   \n",
       "2  0.909029  0.791482  0.423169  0.186712  0.000000  0.007836  0.063032   \n",
       "3  1.000000  0.478893  0.056760  0.064176  0.081289  0.072732  0.055619   \n",
       "4  1.000000  0.867238  0.201360  0.099349  0.141336  0.120934  0.108516   \n",
       "\n",
       "        7         8         9    ...  177  178  179  180  181  182  183  184  \\\n",
       "0  0.119125  0.110616  0.113047  ...  0.0  0.0  0.0  0.0  0.0  0.0  0.0  0.0   \n",
       "1  0.293754  0.325912  0.345083  ...  0.0  0.0  0.0  0.0  0.0  0.0  0.0  0.0   \n",
       "2  0.077002  0.074957  0.077342  ...  0.0  0.0  0.0  0.0  0.0  0.0  0.0  0.0   \n",
       "3  0.048774  0.054478  0.041643  ...  0.0  0.0  0.0  0.0  0.0  0.0  0.0  0.0   \n",
       "4  0.096393  0.093436  0.100828  ...  0.0  0.0  0.0  0.0  0.0  0.0  0.0  0.0   \n",
       "\n",
       "   185  186  \n",
       "0  0.0  0.0  \n",
       "1  0.0  0.0  \n",
       "2  0.0  0.0  \n",
       "3  0.0  0.0  \n",
       "4  0.0  0.0  \n",
       "\n",
       "[5 rows x 187 columns]"
      ]
     },
     "execution_count": 2,
     "metadata": {},
     "output_type": "execute_result"
    }
   ],
   "source": [
    "data =X; target=y; \n",
    "data.head()"
   ]
  },
  {
   "cell_type": "code",
   "execution_count": 57,
   "id": "ac3e0ac4",
   "metadata": {},
   "outputs": [
    {
     "data": {
      "text/plain": [
       "Text(0.5, 1.0, 'signal original')"
      ]
     },
     "execution_count": 57,
     "metadata": {},
     "output_type": "execute_result"
    },
    {
     "data": {
      "image/png": "[encoded data removed]",
      "text/plain": [
       "<Figure size 640x480 with 1 Axes>"
      ]
     },
     "metadata": {},
     "output_type": "display_data"
    }
   ],
   "source": [
    "import matplotlib.pyplot as plt\n",
    "plt.plot(data.iloc[1,:]);\n",
    "plt.title('signal original')"
   ]
  },
  {
   "cell_type": "markdown",
   "id": "96590d47",
   "metadata": {},
   "source": [
    "# DIMENSION REDUCTION"
   ]
  },
  {
   "cell_type": "markdown",
   "id": "e37d35c3",
   "metadata": {},
   "source": [
    "### Using a Manual Windows average (too slow)"
   ]
  },
  {
   "cell_type": "code",
   "execution_count": 59,
   "id": "079acde3",
   "metadata": {},
   "outputs": [
    {
     "data": {
      "image/png": "[encoded data removed]",
      "text/plain": [
       "<Figure size 640x480 with 1 Axes>"
      ]
     },
     "metadata": {},
     "output_type": "display_data"
    }
   ],
   "source": [
    "windsize = 5\n",
    "w=0\n",
    "data_ligne=[]\n",
    "for i_col in range(data.shape[1]):\n",
    "    w+=1\n",
    "    if w==windsize:\n",
    "        data_ligne.append(data.iloc[1,i_col-w:i_col].mean())\n",
    "        w=0\n",
    "plt.plot(data_ligne);\n",
    "plt.title( 'n pts = '+ str(len(data_ligne)) + '  avec windsize=' + str(windsize) );"
   ]
  },
  {
   "cell_type": "markdown",
   "id": "d5f1a2ee",
   "metadata": {},
   "source": [
    "### Using Decimate function from scipy (good)\n"
   ]
  },
  {
   "cell_type": "code",
   "execution_count": 69,
   "id": "43536698",
   "metadata": {},
   "outputs": [
    {
     "data": {
      "image/png": "[encoded data removed]",
      "text/plain": [
       "<Figure size 640x480 with 1 Axes>"
      ]
     },
     "metadata": {},
     "output_type": "display_data"
    }
   ],
   "source": [
    "from scipy.signal import decimate\n",
    "q=5\n",
    "data_decim = decimate(data, q, n=None, ftype='fir', axis=-1, zero_phase=True)\n",
    "plt.plot(data_decim[1,:])\n",
    "data_decim.shape\n",
    "plt.title('decimated from 187 pts  to  ' + str(data_decim.shape[1]) + ' pts');"
   ]
  },
  {
   "cell_type": "code",
   "execution_count": 51,
   "id": "f06e2068",
   "metadata": {},
   "outputs": [
    {
     "data": {
      "text/plain": [
       "(123998, 38)"
      ]
     },
     "execution_count": 51,
     "metadata": {},
     "output_type": "execute_result"
    }
   ],
   "source": [
    "data_decim.shape"
   ]
  },
  {
   "cell_type": "code",
   "execution_count": 52,
   "id": "d3fd6dd6",
   "metadata": {},
   "outputs": [
    {
     "data": {
      "text/plain": [
       "(123998, 187)"
      ]
     },
     "execution_count": 52,
     "metadata": {},
     "output_type": "execute_result"
    }
   ],
   "source": [
    "data.shape"
   ]
  },
  {
   "cell_type": "markdown",
   "id": "6b55d318",
   "metadata": {},
   "source": [
    "### PCA:"
   ]
  },
  {
   "cell_type": "code",
   "execution_count": 60,
   "id": "37cad5cf",
   "metadata": {},
   "outputs": [],
   "source": [
    "from sklearn.decomposition import PCA \n",
    "from sklearn.discriminant_analysis import LinearDiscriminantAnalysis as LDA"
   ]
  },
  {
   "cell_type": "code",
   "execution_count": 61,
   "id": "c7a84b22",
   "metadata": {},
   "outputs": [
    {
     "data": {
      "text/plain": [
       "(123998, 23)"
      ]
     },
     "execution_count": 61,
     "metadata": {},
     "output_type": "execute_result"
    }
   ],
   "source": [
    "pca= PCA(0.9)\n",
    "pca.fit(data)\n",
    "data_pca = pca.transform(data)\n",
    "data_pca.shape"
   ]
  },
  {
   "cell_type": "code",
   "execution_count": 95,
   "id": "f1e70c9e",
   "metadata": {},
   "outputs": [
    {
     "data": {
      "image/png": "[encoded data removed]",
      "text/plain": [
       "<Figure size 640x480 with 1 Axes>"
      ]
     },
     "metadata": {},
     "output_type": "display_data"
    }
   ],
   "source": [
    "plt.plot(data_pca[1,:])\n",
    "plt.title('PCA reduction from 187 pts  to  ' + str(data_pca.shape[1]) + ' pts');"
   ]
  },
  {
   "cell_type": "markdown",
   "id": "c466a236",
   "metadata": {},
   "source": [
    "### conclusion :  \n",
    "\n",
    "on a donc reduit les dimensions via \n",
    "\n",
    "    - decimate (filter + downsample ) ==> 38 pts pour conserver un signal ressemblant a l\"original\n",
    "    \n",
    "    - PCA ==> 23 pts pour 90% de la variance"
   ]
  },
  {
   "cell_type": "markdown",
   "id": "6c071d15",
   "metadata": {},
   "source": [
    "# Training Models with reduced dimension "
   ]
  },
  {
   "cell_type": "markdown",
   "id": "08513f4f",
   "metadata": {},
   "source": [
    "## Decision Tree"
   ]
  },
  {
   "cell_type": "markdown",
   "id": "606e8e76",
   "metadata": {},
   "source": [
    "### Full Data "
   ]
  },
  {
   "cell_type": "code",
   "execution_count": 72,
   "id": "913a7d12",
   "metadata": {},
   "outputs": [
    {
     "name": "stdout",
     "output_type": "stream",
     "text": [
      "train score = 1.0\n",
      "test score = 0.9270609318996416\n",
      "              precision    recall  f1-score   support\n",
      "\n",
      "         0.0       0.95      0.96      0.95     16935\n",
      "         1.0       0.86      0.84      0.85      5385\n",
      "\n",
      "    accuracy                           0.93     22320\n",
      "   macro avg       0.90      0.90      0.90     22320\n",
      "weighted avg       0.93      0.93      0.93     22320\n",
      "\n"
     ]
    }
   ],
   "source": [
    "from sklearn.tree import DecisionTreeClassifier \n",
    "model = DecisionTreeClassifier()\n",
    "model.fit(X_train, y_train)\n",
    "print('train score =',model.score(X_train, y_train))\n",
    "print('test score =',model.score(X_test, y_test))\n",
    "\n",
    "from sklearn.metrics import classification_report\n",
    "y_pred = model.predict(X_test)\n",
    "print(classification_report(y_test, y_pred))"
   ]
  },
  {
   "cell_type": "markdown",
   "id": "a0cb93c2",
   "metadata": {},
   "source": [
    "### Decimate Data "
   ]
  },
  {
   "cell_type": "code",
   "execution_count": 81,
   "id": "8da74608",
   "metadata": {},
   "outputs": [
    {
     "name": "stdout",
     "output_type": "stream",
     "text": [
      "X_train_decim.shape= (89278, 38)\n"
     ]
    }
   ],
   "source": [
    "y = target\n",
    "X = data_decim\n",
    "X_train90, X_valid, y_train90, y_valid = train_test_split(X, y, train_size=0.9, random_state=1,shuffle=True)\n",
    "X_train_decim, X_test_decim, y_train, y_test = train_test_split(X_train90, y_train90, train_size=0.8, random_state=1,shuffle=True)\n",
    "print('X_train_decim.shape=', X_train_decim.shape)\n"
   ]
  },
  {
   "cell_type": "code",
   "execution_count": 82,
   "id": "7839b4aa",
   "metadata": {},
   "outputs": [
    {
     "name": "stdout",
     "output_type": "stream",
     "text": [
      "train score = 1.0\n",
      "test score = 0.9184139784946237\n",
      "              precision    recall  f1-score   support\n",
      "\n",
      "         0.0       0.95      0.95      0.95     16935\n",
      "         1.0       0.83      0.83      0.83      5385\n",
      "\n",
      "    accuracy                           0.92     22320\n",
      "   macro avg       0.89      0.89      0.89     22320\n",
      "weighted avg       0.92      0.92      0.92     22320\n",
      "\n"
     ]
    }
   ],
   "source": [
    "model = DecisionTreeClassifier()\n",
    "model.fit(X_train_decim, y_train)\n",
    "print('train score =',model.score(X_train_decim, y_train))\n",
    "print('test score =',model.score(X_test_decim, y_test))\n",
    "\n",
    "y_pred = model.predict(X_test_decim)\n",
    "print(classification_report(y_test, y_pred))"
   ]
  },
  {
   "cell_type": "markdown",
   "id": "0fa65d2e",
   "metadata": {},
   "source": [
    "### PCA Data "
   ]
  },
  {
   "cell_type": "code",
   "execution_count": 89,
   "id": "3955c033",
   "metadata": {},
   "outputs": [
    {
     "name": "stdout",
     "output_type": "stream",
     "text": [
      "X_train_pca.shape= (89278, 23)\n"
     ]
    }
   ],
   "source": [
    "y = target\n",
    "X = data_pca\n",
    "X_train90, X_valid, y_train90, y_valid = train_test_split(X, y, train_size=0.9, random_state=1,shuffle=True)\n",
    "X_train_pca, X_test_pca, y_train, y_test = train_test_split(X_train90, y_train90, train_size=0.8, random_state=1,shuffle=True)\n",
    "print('X_train_pca.shape=', X_train_pca.shape)\n"
   ]
  },
  {
   "cell_type": "code",
   "execution_count": 90,
   "id": "cbc3b7b7",
   "metadata": {},
   "outputs": [
    {
     "name": "stdout",
     "output_type": "stream",
     "text": [
      "train score = 1.0\n",
      "test score = 0.9113351254480286\n",
      "              precision    recall  f1-score   support\n",
      "\n",
      "         0.0       0.94      0.94      0.94     16935\n",
      "         1.0       0.82      0.81      0.82      5385\n",
      "\n",
      "    accuracy                           0.91     22320\n",
      "   macro avg       0.88      0.88      0.88     22320\n",
      "weighted avg       0.91      0.91      0.91     22320\n",
      "\n"
     ]
    }
   ],
   "source": [
    "model = DecisionTreeClassifier()\n",
    "model.fit(X_train_pca, y_train)\n",
    "print('train score =',model.score(X_train_pca, y_train))\n",
    "print('test score =',model.score(X_test_pca, y_test))\n",
    "\n",
    "y_pred = model.predict(X_test_pca)\n",
    "print(classification_report(y_test, y_pred))"
   ]
  },
  {
   "cell_type": "code",
   "execution_count": null,
   "id": "6e36afa9",
   "metadata": {},
   "outputs": [],
   "source": []
  },
  {
   "cell_type": "markdown",
   "id": "1f714b6f",
   "metadata": {},
   "source": [
    "## LOGISTIC REGRESSION"
   ]
  },
  {
   "cell_type": "markdown",
   "id": "bc828970",
   "metadata": {},
   "source": [
    "## Full Data"
   ]
  },
  {
   "cell_type": "code",
   "execution_count": 88,
   "id": "1adde907",
   "metadata": {},
   "outputs": [
    {
     "name": "stdout",
     "output_type": "stream",
     "text": [
      "train score = 0.8264746074060799\n",
      "test score = 0.8237903225806451\n",
      "              precision    recall  f1-score   support\n",
      "\n",
      "         0.0       0.83      0.96      0.89     16935\n",
      "         1.0       0.76      0.39      0.52      5385\n",
      "\n",
      "    accuracy                           0.82     22320\n",
      "   macro avg       0.80      0.68      0.71     22320\n",
      "weighted avg       0.82      0.82      0.80     22320\n",
      "\n"
     ]
    }
   ],
   "source": [
    "from sklearn.linear_model import LogisticRegression\n",
    "model = LogisticRegression()\n",
    "model.fit(X_train, y_train)\n",
    "print('train score =',model.score(X_train, y_train))\n",
    "print('test score =',model.score(X_test, y_test))\n",
    "\n",
    "y_pred = model.predict(X_test)\n",
    "print(classification_report(y_test, y_pred))"
   ]
  },
  {
   "cell_type": "markdown",
   "id": "6e21ac97",
   "metadata": {},
   "source": [
    "### Decimate Data : Logistic\n"
   ]
  },
  {
   "cell_type": "code",
   "execution_count": 93,
   "id": "c2815bb4",
   "metadata": {},
   "outputs": [
    {
     "name": "stdout",
     "output_type": "stream",
     "text": [
      "train score = 0.8378883935572033\n",
      "test score = 0.837410394265233\n",
      "              precision    recall  f1-score   support\n",
      "\n",
      "         0.0       0.84      0.97      0.90     16935\n",
      "         1.0       0.81      0.42      0.56      5385\n",
      "\n",
      "    accuracy                           0.84     22320\n",
      "   macro avg       0.83      0.70      0.73     22320\n",
      "weighted avg       0.83      0.84      0.82     22320\n",
      "\n"
     ]
    },
    {
     "name": "stderr",
     "output_type": "stream",
     "text": [
      "/Users/juliencatanese/opt/anaconda3/lib/python3.9/site-packages/sklearn/linear_model/_logistic.py:814: ConvergenceWarning: lbfgs failed to converge (status=1):\n",
      "STOP: TOTAL NO. of ITERATIONS REACHED LIMIT.\n",
      "\n",
      "Increase the number of iterations (max_iter) or scale the data as shown in:\n",
      "    https://scikit-learn.org/stable/modules/preprocessing.html\n",
      "Please also refer to the documentation for alternative solver options:\n",
      "    https://scikit-learn.org/stable/modules/linear_model.html#logistic-regression\n",
      "  n_iter_i = _check_optimize_result(\n"
     ]
    }
   ],
   "source": [
    "model = LogisticRegression()\n",
    "model.fit(X_train_decim, y_train)\n",
    "print('train score =',model.score(X_train_decim, y_train))\n",
    "print('test score =',model.score(X_test_decim, y_test))\n",
    "\n",
    "y_pred = model.predict(X_test_decim)\n",
    "print(classification_report(y_test, y_pred))"
   ]
  },
  {
   "cell_type": "markdown",
   "id": "6b703f8a",
   "metadata": {},
   "source": [
    "### PCA Data  : Logistic\n"
   ]
  },
  {
   "cell_type": "code",
   "execution_count": 92,
   "id": "25323499",
   "metadata": {},
   "outputs": [
    {
     "name": "stdout",
     "output_type": "stream",
     "text": [
      "train score = 0.8264746074060799\n",
      "test score = 0.8237903225806451\n",
      "              precision    recall  f1-score   support\n",
      "\n",
      "         0.0       0.83      0.96      0.89     16935\n",
      "         1.0       0.76      0.39      0.52      5385\n",
      "\n",
      "    accuracy                           0.82     22320\n",
      "   macro avg       0.80      0.68      0.71     22320\n",
      "weighted avg       0.82      0.82      0.80     22320\n",
      "\n"
     ]
    }
   ],
   "source": [
    "model = LogisticRegression()\n",
    "model.fit(X_train_pca, y_train)\n",
    "print('train score =',model.score(X_train_pca, y_train))\n",
    "print('test score =',model.score(X_test_pca, y_test))\n",
    "\n",
    "y_pred = model.predict(X_test_pca)\n",
    "print(classification_report(y_test, y_pred))"
   ]
  },
  {
   "cell_type": "code",
   "execution_count": null,
   "id": "b4096f3d",
   "metadata": {},
   "outputs": [],
   "source": []
  },
  {
   "cell_type": "code",
   "execution_count": null,
   "id": "cc403f39",
   "metadata": {},
   "outputs": [],
   "source": []
  },
  {
   "cell_type": "code",
   "execution_count": null,
   "id": "ae85d206",
   "metadata": {},
   "outputs": [],
   "source": []
  },
  {
   "cell_type": "code",
   "execution_count": null,
   "id": "c6db6d6a",
   "metadata": {},
   "outputs": [],
   "source": []
  },
  {
   "cell_type": "code",
   "execution_count": null,
   "id": "8882f38d",
   "metadata": {},
   "outputs": [],
   "source": []
  },
  {
   "cell_type": "code",
   "execution_count": null,
   "id": "7e59c069",
   "metadata": {},
   "outputs": [],
   "source": [
    "# MON CODE DE DOWNSAMPLING QUI EST BCP TROP LENT\n",
    "windsize = 4\n",
    "w=0\n",
    "newdata=pd.DataFrame([])\n",
    "for j_ligne in range(data.shape[0]):\n",
    "#     print(j_ligne)\n",
    "    data_ligne=[]\n",
    "    for i_col in range(data.shape[1]):\n",
    "        w+=1\n",
    "        if w==windsize:\n",
    "            data_ligne.append(data.iloc[1,i_col-w:i_col].mean())\n",
    "            w=0\n",
    "    newdata = pd.concat((newdata, pd.DataFrame(data_ligne)), axis=1)\n",
    "              \n",
    "              \n",
    "newdata.shape           "
   ]
  },
  {
   "cell_type": "code",
   "execution_count": null,
   "id": "ae97f571",
   "metadata": {},
   "outputs": [],
   "source": [
    "# POUR AJOUTER DES LIGNES A UN DATAFRAME\n",
    "# pd.concat(objs: 'Iterable[NDFrame] | Mapping[Hashable, NDFrame]', \n",
    "#        axis: 'Axis' = 0, \n",
    "#        join: 'str' = 'outer', \n",
    "#        ignore_index: 'bool' = False, \n",
    "#        keys=None, \n",
    "#        levels=None, names=None, \n",
    "#        verify_integrity: 'bool' = False, \n",
    "#        sort: 'bool' = False, \n",
    "#        copy: 'bool' = True) "
   ]
  }
 ],
 "metadata": {
  "kernelspec": {
   "display_name": "Python 3 (ipykernel)",
   "language": "python",
   "name": "python3"
  },
  "language_info": {
   "codemirror_mode": {
    "name": "ipython",
    "version": 3
   },
   "file_extension": ".py",
   "mimetype": "text/x-python",
   "name": "python",
   "nbconvert_exporter": "python",
   "pygments_lexer": "ipython3",
   "version": "3.9.13"
  }
 },
 "nbformat": 4,
 "nbformat_minor": 5
}
