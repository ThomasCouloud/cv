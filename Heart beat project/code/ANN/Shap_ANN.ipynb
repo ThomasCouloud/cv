{
 "cells": [
  {
   "cell_type": "code",
   "execution_count": 1,
   "id": "86591dea",
   "metadata": {},
   "outputs": [
    {
     "name": "stdout",
     "output_type": "stream",
     "text": [
      "/Users/juliencatanese/Dropbox/Datascientest/Projet_datascientest/Data_Kaggle\n"
     ]
    },
    {
     "data": {
      "text/plain": [
       "'/Users/juliencatanese/Dropbox/Datascientest/Projet_datascientest/Data_Kaggle'"
      ]
     },
     "execution_count": 1,
     "metadata": {},
     "output_type": "execute_result"
    }
   ],
   "source": [
    "%cd '/Users/juliencatanese/Dropbox/Datascientest/Projet_datascientest/Data_Kaggle/'\n",
    "%pwd"
   ]
  },
  {
   "cell_type": "markdown",
   "id": "2cd59dd7",
   "metadata": {},
   "source": [
    "### BUILD, RUN AND PLOT A NEURAL NETWORK\n",
    "use ANN_JCv2_1cell.ipynb"
   ]
  },
  {
   "cell_type": "markdown",
   "id": "0ae1bb71",
   "metadata": {},
   "source": [
    "### LOAD and PLOT A NEURAL NETWORK\n"
   ]
  },
  {
   "cell_type": "code",
   "execution_count": 22,
   "id": "10406ba2",
   "metadata": {},
   "outputs": [
    {
     "name": "stdout",
     "output_type": "stream",
     "text": [
      "X_train.shape= (89278, 187)\n",
      "X_test.shape= (22320, 187)\n",
      "X_valid.shape= (12400, 187)\n",
      "y_train.shape= (89278,)\n",
      "y_train_cat.shape= (89278, 2)\n",
      "Model: \"model\"\n",
      "_________________________________________________________________\n",
      " Layer (type)                Output Shape              Param #   \n",
      "=================================================================\n",
      " inputs (InputLayer)         [(None, 187)]             0         \n",
      "                                                                 \n",
      " dense_layer1_relu (Dense)   (None, 100)               18800     \n",
      "                                                                 \n",
      " dense_output_softmax (Dense  (None, 2)                202       \n",
      " )                                                               \n",
      "                                                                 \n",
      "=================================================================\n",
      "Total params: 19,002\n",
      "Trainable params: 19,002\n",
      "Non-trainable params: 0\n",
      "_________________________________________________________________\n",
      "None\n",
      "698/698 [==============================] - 1s 904us/step\n",
      "              precision    recall  f1-score   support\n",
      "\n",
      "         0.0       0.95      0.98      0.97     16935\n",
      "         1.0       0.93      0.85      0.89      5385\n",
      "\n",
      "    accuracy                           0.95     22320\n",
      "   macro avg       0.94      0.92      0.93     22320\n",
      "weighted avg       0.95      0.95      0.95     22320\n",
      "\n"
     ]
    }
   ],
   "source": [
    "import os\n",
    "import numpy as np\n",
    "import pandas as pd\n",
    "from sklearn.model_selection import train_test_split\n",
    "\n",
    "from tensorflow.keras.layers import Input, Dense\n",
    "from tensorflow.keras.models import Model\n",
    "from tensorflow.keras.utils import to_categorical \n",
    "\n",
    "from time import time\n",
    "from joblib import dump, load\n",
    "\n",
    "import matplotlib.pyplot as plt\n",
    "from matplotlib import cm\n",
    "%matplotlib inline\n",
    "\n",
    "from sklearn import metrics\n",
    "from sklearn.metrics import classification_report\n",
    "\n",
    "import itertools\n",
    "import tensorflow as tf\n",
    "import shap\n",
    "\n",
    "\n",
    "# Lecture des donnees PTB.csv\n",
    "ptb_abnormal = pd.read_csv('./ptbdb_abnormal.csv', header=None)\n",
    "ptb_normal = pd.read_csv('./ptbdb_normal.csv', header=None)\n",
    "\n",
    "# Concatenation des deux DataFrames\n",
    "ptb = pd.concat([ptb_normal, ptb_abnormal], ignore_index=True, sort=False)\n",
    "ptb.rename(columns={187 :'class'}, inplace=True)\n",
    "\n",
    "# Lecture des donnees MIT.csv\n",
    "mit_train = pd.read_csv('./mitbih_train.csv', header=None)\n",
    "mit_test = pd.read_csv('./mitbih_test.csv', header=None)\n",
    "\n",
    "# Concatenation des deux DataFrames\n",
    "mit = pd.concat([mit_train, mit_test], ignore_index=True, sort=False)\n",
    "mit.rename(columns={187 :'class'}, inplace=True)\n",
    "\n",
    "# Groupement des classes non-normal (1,2,3,4) en une seule classe Anormal (label=1)\n",
    "mit['class'].replace({2:1,3:1,4:1}, inplace=True)\n",
    "\n",
    "# Concatenation des jeux de donnees PTB et MIT  \n",
    "data = pd.concat([ptb, mit], ignore_index=True, sort=False)\n",
    "\n",
    "y = data['class'].copy()\n",
    "X = data.drop('class', axis=1).copy()\n",
    "\n",
    "X_train90, X_valid, y_train90, y_valid = train_test_split(X, y, train_size=0.9, random_state=1,shuffle=True)\n",
    "X_train, X_test, y_train, y_test = train_test_split(X_train90, y_train90, train_size=0.8, random_state=1,shuffle=True)\n"
   ]
  },
  {
   "cell_type": "markdown",
   "id": "4f829db0",
   "metadata": {},
   "source": [
    "### SHAP for INTERPRETABILITY"
   ]
  },
  {
   "cell_type": "code",
   "execution_count": 60,
   "id": "a1d3318d",
   "metadata": {},
   "outputs": [],
   "source": [
    "LoadFileName = 'ANN_L1_relu100u_.joblib'\n",
    "model, params, train_history = load(LoadFileName)"
   ]
  },
  {
   "cell_type": "code",
   "execution_count": 61,
   "id": "ea04528e",
   "metadata": {},
   "outputs": [
    {
     "name": "stdout",
     "output_type": "stream",
     "text": [
      "X_train.shape= (89278, 187)\n",
      "X_test.shape= (22320, 187)\n",
      "X_valid.shape= (12400, 187)\n",
      "y_train.shape= (89278,)\n",
      "y_train_cat.shape= (89278, 2)\n",
      "Model: \"model\"\n",
      "_________________________________________________________________\n",
      " Layer (type)                Output Shape              Param #   \n",
      "=================================================================\n",
      " inputs (InputLayer)         [(None, 187)]             0         \n",
      "                                                                 \n",
      " dense_layer1_relu (Dense)   (None, 100)               18800     \n",
      "                                                                 \n",
      " dense_output_softmax (Dense  (None, 2)                202       \n",
      " )                                                               \n",
      "                                                                 \n",
      "=================================================================\n",
      "Total params: 19,002\n",
      "Trainable params: 19,002\n",
      "Non-trainable params: 0\n",
      "_________________________________________________________________\n",
      "None\n",
      "698/698 [==============================] - 1s 1ms/step\n",
      "              precision    recall  f1-score   support\n",
      "\n",
      "         0.0       0.91      0.97      0.94     16935\n",
      "         1.0       0.90      0.71      0.79      5385\n",
      "\n",
      "    accuracy                           0.91     22320\n",
      "   macro avg       0.91      0.84      0.87     22320\n",
      "weighted avg       0.91      0.91      0.91     22320\n",
      "\n"
     ]
    },
    {
     "data": {
      "image/png": "[encoded data removed]",
      "text/plain": [
       "<Figure size 640x480 with 1 Axes>"
      ]
     },
     "metadata": {},
     "output_type": "display_data"
    }
   ],
   "source": [
    "train_set =train_history.history['accuracy']\n",
    "val_set =train_history.history['val_accuracy']\n",
    "\n",
    "plt.plot(train_set,label = 'train set');\n",
    "plt.plot(val_set, label= 'validation set');\n",
    "plt.ylabel('accuracy')\n",
    "plt.xlabel('epochs    \\n(with batch_size ='+  str(params['batch_size'])  +')')\n",
    "plt.legend();\n",
    "plt.ylim([0.85,1])\n",
    "plt.title( str(params['Layer1']['units']) + 'units  ' + params['Layer1']['activation'] + '  train time =' + str(int(params['train_time'])) +  's')\n",
    "\n",
    "print('X_train.shape=',X_train.shape)\n",
    "print('X_test.shape=',X_test.shape)\n",
    "print('X_valid.shape=',X_valid.shape)\n",
    "\n",
    "print('y_train.shape=',y_train.shape)\n",
    "y_train_cat = to_categorical(y_train, dtype='int')\n",
    "print('y_train_cat.shape=',y_train_cat.shape)\n",
    "\n",
    "\n",
    "LoadFileName = 'ANN_L1_relu100u_.joblib'\n",
    "load(LoadFileName)\n",
    "\n",
    "\n",
    "print(model.summary())\n",
    "y_pred_cat = model.predict(X_test)\n",
    "y_pred = y_pred_cat.argmax(axis=1)\n",
    "print(classification_report(y_test, y_pred))"
   ]
  },
  {
   "cell_type": "code",
   "execution_count": 113,
   "id": "0afa3153",
   "metadata": {},
   "outputs": [
    {
     "name": "stdout",
     "output_type": "stream",
     "text": [
      "nEEG_test= 22320\n",
      "nEEG_test/4= 5580\n",
      "nEEG_test/3= 7440\n",
      "nEEG_test/2= 11160\n"
     ]
    }
   ],
   "source": [
    "import shap\n",
    "# help(shap.DeepExplainer)\n",
    "import warnings\n",
    "warnings.filterwarnings('ignore')\n",
    "\n",
    "\n",
    "nEEG = X_test.to_numpy().shape[0]\n",
    "print('nEEG_test=',nEEG)\n",
    "print('nEEG_test/4=',int(nEEG/4))\n",
    "print('nEEG_test/3=',int(nEEG/3))\n",
    "print('nEEG_test/2=',int(nEEG/2))\n",
    "\n"
   ]
  },
  {
   "cell_type": "code",
   "execution_count": 109,
   "id": "b72568d0",
   "metadata": {},
   "outputs": [
    {
     "name": "stdout",
     "output_type": "stream",
     "text": [
      "nEEG= 89278\n",
      "nEEG/4= 22319\n",
      "nEEG_to_process= 8927\n"
     ]
    }
   ],
   "source": [
    "nEEG = X_train.to_numpy().shape[0]\n",
    "print('nEEG=',nEEG)\n",
    "print('nEEG/4=',int(nEEG/4))\n",
    "nEEG_to_process = int(nEEG/10)\n",
    "print('nEEG_to_process=',int(nEEG_to_process))"
   ]
  },
  {
   "cell_type": "code",
   "execution_count": 99,
   "id": "7dc765ad",
   "metadata": {},
   "outputs": [
    {
     "name": "stdout",
     "output_type": "stream",
     "text": [
      "===== Réalisé en 1537.552 secondes ======\n"
     ]
    }
   ],
   "source": [
    "\n",
    "t0 = time()\n",
    "\n",
    "explainer = shap.DeepExplainer(\n",
    "    model, \n",
    "    data=X_train.to_numpy()\n",
    ")\n",
    "shap_v = explainer.shap_values(X_test.to_numpy()[:nEEG_to_process])\n",
    "\n",
    "t1 = time() - t0\n",
    "print(\"===== Réalisé en {} secondes ======\".format(round(t1,3)))"
   ]
  },
  {
   "cell_type": "code",
   "execution_count": 101,
   "id": "44e751c3",
   "metadata": {},
   "outputs": [
    {
     "data": {
      "image/png": "[encoded data removed]",
      "text/plain": [
       "<Figure size 800x950 with 1 Axes>"
      ]
     },
     "metadata": {},
     "output_type": "display_data"
    }
   ],
   "source": [
    "shap.summary_plot(shap_v, X_test, plot_type=\"bar\")"
   ]
  },
  {
   "cell_type": "code",
   "execution_count": 87,
   "id": "e30df167",
   "metadata": {},
   "outputs": [
    {
     "data": {
      "text/plain": [
       "89278"
      ]
     },
     "execution_count": 87,
     "metadata": {},
     "output_type": "execute_result"
    }
   ],
   "source": [
    "nEEG = X_train.to_numpy().shape[0]\n",
    "nEEG"
   ]
  },
  {
   "cell_type": "code",
   "execution_count": 103,
   "id": "dd89d217",
   "metadata": {},
   "outputs": [
    {
     "data": {
      "text/plain": [
       "25.616666666666667"
      ]
     },
     "execution_count": 103,
     "metadata": {},
     "output_type": "execute_result"
    }
   ],
   "source": [
    "1537/60\n"
   ]
  },
  {
   "cell_type": "code",
   "execution_count": 104,
   "id": "0f5db825",
   "metadata": {},
   "outputs": [
    {
     "data": {
      "text/plain": [
       "178556"
      ]
     },
     "execution_count": 104,
     "metadata": {},
     "output_type": "execute_result"
    }
   ],
   "source": [
    "89278*2"
   ]
  },
  {
   "cell_type": "code",
   "execution_count": 106,
   "id": "5c36c825",
   "metadata": {},
   "outputs": [
    {
     "data": {
      "text/plain": [
       "49.59888888888889"
      ]
     },
     "execution_count": 106,
     "metadata": {},
     "output_type": "execute_result"
    }
   ],
   "source": [
    "178556/60/60"
   ]
  },
  {
   "cell_type": "code",
   "execution_count": null,
   "id": "73d0fc6a",
   "metadata": {},
   "outputs": [],
   "source": []
  },
  {
   "cell_type": "code",
   "execution_count": null,
   "id": "90c08e24",
   "metadata": {},
   "outputs": [],
   "source": []
  },
  {
   "cell_type": "code",
   "execution_count": null,
   "id": "af4f0a09",
   "metadata": {},
   "outputs": [],
   "source": []
  },
  {
   "cell_type": "code",
   "execution_count": null,
   "id": "20d372fb",
   "metadata": {},
   "outputs": [],
   "source": []
  },
  {
   "cell_type": "code",
   "execution_count": null,
   "id": "a22f3c1f",
   "metadata": {},
   "outputs": [],
   "source": []
  },
  {
   "cell_type": "code",
   "execution_count": null,
   "id": "ea64ec02",
   "metadata": {},
   "outputs": [],
   "source": []
  },
  {
   "cell_type": "code",
   "execution_count": null,
   "id": "4fd72460",
   "metadata": {},
   "outputs": [],
   "source": []
  },
  {
   "cell_type": "code",
   "execution_count": null,
   "id": "dfbdd9e6",
   "metadata": {},
   "outputs": [],
   "source": []
  }
 ],
 "metadata": {
  "kernelspec": {
   "display_name": "Python 3 (ipykernel)",
   "language": "python",
   "name": "python3"
  },
  "language_info": {
   "codemirror_mode": {
    "name": "ipython",
    "version": 3
   },
   "file_extension": ".py",
   "mimetype": "text/x-python",
   "name": "python",
   "nbconvert_exporter": "python",
   "pygments_lexer": "ipython3",
   "version": "3.9.13"
  }
 },
 "nbformat": 4,
 "nbformat_minor": 5
}
